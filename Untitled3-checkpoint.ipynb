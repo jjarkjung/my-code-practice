{
 "cells": [
  {
   "cell_type": "code",
   "execution_count": 10,
   "id": "00bf847f",
   "metadata": {},
   "outputs": [
    {
     "name": "stdout",
     "output_type": "stream",
     "text": [
      "검색어를 입력하세요겨울\n",
      "크롤링할 건수는 몇건입니까 ?15\n"
     ]
    },
    {
     "name": "stderr",
     "output_type": "stream",
     "text": [
      "C:\\Users\\ADMINI~1\\AppData\\Local\\Temp/ipykernel_12280/1253598383.py:18: DeprecationWarning: executable_path has been deprecated, please pass in a Service object\n",
      "  driver = webdriver.Chrome(chrome_path)\n",
      "C:\\Users\\ADMINI~1\\AppData\\Local\\Temp/ipykernel_12280/1253598383.py:24: DeprecationWarning: find_element_by_* commands are deprecated. Please use find_element() instead\n",
      "  search = driver.find_element_by_id(\"query\")\n",
      "C:\\Users\\ADMINI~1\\AppData\\Local\\Temp/ipykernel_12280/1253598383.py:30: DeprecationWarning: find_element_by_* commands are deprecated. Please use find_element() instead\n",
      "  ccm = driver.find_element_by_xpath('//*[@id=\"lnb\"]/div[1]/div/ul/li[9]/a')\n"
     ]
    },
    {
     "name": "stdout",
     "output_type": "stream",
     "text": [
      "      문서 저장하기  Keep에 저장 Keep 바로가기  한겨레언론사 선정4시간 전네이버뉴스 바이든, 베이징 겨울 올림픽 ‘외교적 보이콧’ 고려   조 바이든 미국 대통령이 2022년 베이징 겨울 올림픽을 미국이 외교적으로 검토하는 것을 고려하고 있다고... 앞서, <워싱턴포스트>의 조시 로긴 칼럼니스트는 바이든 대통령이 베이징 겨울 올림픽에 대한 외교적 보이콧...       MBC5시간 전네이버뉴스 바이든 \"베이징 겨울올림픽, 외교적 보이콧 검토\"     MTN4시간 전 바이든 \"베이징 겨울올림픽, 외교적 보이콧 검토\"        문서 저장하기  Keep에 저장 Keep 바로가기  뉴시스34분 전네이버뉴스 \"포근한 겨울\" 휠라, 김유정과 '윈터 다운' 화보   기사내용 요약오늘 겨울 화보 공개…\"Let’s Play Winter\" 글로벌 스포츠 브랜드 휠라(FILA)는 19일 자사 브랜드 뮤즈 배우 김유정과 촬영한 2021 겨울 화보를 공개했다. 테마는 '렛츠 플레이 윈터'(Let’s Play Winter)다....       스포츠경향1시간 전네이버뉴스 휠라, ‘인간 휠라’ 김유정과 함께 한 ‘2021 겨울 화보’ 공개     스포츠한국1시간 전 김유정, 겨울 여신의 윈터룩 '러블리 비주얼'     스냅2시간 전 휠라, 브랜드 뮤즈 김유정과 함께한 2021 겨울 화보 공개     MBN45분 전네이버뉴스 김유정 화보, 청순+상큼+발랄 모두 담은 겨울 여신의 윈터룩  관련뉴스 6건 전체보기       문서 저장하기  Keep에 저장 Keep 바로가기  아주경제15분 전 부산시, 겨울철 긴급복지지원 사업 활성화 나서   부산시는 겨울철에 대비해 복지 사각지대에 놓인 위기가구를 집중적으로 발굴·지원하기 위해... 특히, 시는 제도를 몰라서 신청을 못 하는 경우가 없도록 겨울철 복지 위기가구 집중 발굴 기간에 읍면동 찾아가는...       시민일보1시간 전 부산형 긴급복지지원 사업으로 겨울철 사회안전망 강화한다!        문서 저장하기  Keep에 저장 Keep 바로가기  파이낸셜뉴스2시간 전네이버뉴스 유니클로, 19일부터 '겨울 감사제' 실시   유니클로는 19일부터 25일까지 일주일간 '겨울 감사제'를 실시한다고 밝혔다. 고객에게 감사의 마음을... 이외에도 남녀 '히트텍 스마트 팬츠'와 '히트텍 울트라 스트레치 팬츠' 등 겨울 필수 아이템들을 특별 할인가에...       이투데이51분 전 유니클로, 25일까지 겨울감사제…후리스가 1만원대     데일리한국1시간 전 유니클로, 연중 최대 규모 행사 '겨울 감사제' 실시     인사이트33분 전 유니클로, 11월 19일부터 '유니클로 겨울 감사제' 실시     패션비즈39분 전 유니클로, 19일부터 ‘유니클로 겨울 감사제’ 실시        문서 저장하기  Keep에 저장 Keep 바로가기  이투데이2시간 전 겨울 상품 최대 80% 할인…위메프, ‘클리어런스데이’ 진행   이투데이=한영대 기자 | 50% 이상 저렴한 상품 모은 ‘톱 10’ 코너도 선보여 위메프는 20~21일 ‘클리어런스데이’를 열고 겨울 인기 상품을 최대 80% 할인 판매한다고 19일 밝혔다. 클리어런스데이는 겨울 시즌 패션...       파이낸셜뉴스2시간 전네이버뉴스 위메프, '클리어런스데이' 겨울 필수 아이템 판매.. 최대 80% 할인        문서 저장하기  Keep에 저장 Keep 바로가기  아시아경제2시간 전네이버뉴스 투썸플레이스, 겨울·크리스마스 기획상품 출시   투썸플레이스가 겨울과 크리스마스 분위기를 물씬 느낄 수 있는 크리스마스 기획상품을 출시했다고 19일 밝혔다. 기획상품은 투썸플레이스의 올겨울 시즌 테마인 ‘윈터 미라클(Winter Miracle)’을 모티브로...       신아일보19분 전 투썸플레이스, 겨울 느낌 물씬 화로·텀블러 출시        문서 저장하기  Keep에 저장 Keep 바로가기  KBS언론사 선정5시간 전네이버뉴스 겨울 시작…다음 주엔 ‘추위’에 ‘대설’까지   본격적인 겨울의 시작을 알리는 신호탄입니다. ■ 일요일 기점으로 '겨울 추위' 시작 일요일(21일) 오전까지는 따뜻한 서풍이 불어오며 예년보다 따뜻하겠지만, 오후부터는 상황이 급변합니다. 매개체는 비입니다....        문서 저장하기  Keep에 저장 Keep 바로가기  조선일보A21면 1단8시간 전네이버뉴스 [일사일언] 겨울 냉면 한 그릇   겨울이 제철이냐 여름이 제철이냐를 두고 논란이 치열하다. 메밀가루, 감자 전분, 고구마 전분, 밀가루 중... 건강하고 즐거운 삶은 불필요하게 음식을 가리는 것보다 겨울 냉면 한 그릇을 천천히 맛보는 여유 속에서 더...        문서 저장하기  Keep에 저장 Keep 바로가기  경향신문A12면 1단13시간 전네이버뉴스 따뜻한 겨울 여는 연탄나눔 ‘인간띠’   올겨울 활활 타올라 추위를 잊고 사셨으면 좋겠습니다.” 지난 16일 오후 3시, 전북 전주시 덕진구 인후동의... 우병준 전주농생명소재연구원 원장은 “가뜩이나 위축된 지역사회에 형편이 어려운 분들이 겨울나기를 더...        문서 저장하기  Keep에 저장 Keep 바로가기  머니투데이1일 전네이버뉴스 28주년 맞은 이마트, 겨울 딸기 70t 할인 판매   이마트가 창립 28주년 행사 2주차를 맞아 겨울 제철 먹거리와 금·토·일 'e날 특가'로 고객 감사 행사를... 이마트는 3주 이른 딸기 행사로 겨울 딸기 시장 선점에 나선다는 계획이다. 일반적으로 겨울 딸기는 11월...       매일경제1일 전네이버뉴스 겨울 딸기 70t 미리 확 푼다…이마트, 금토일 초특가 행사로 고객몰이     뉴시스1일 전네이버뉴스 28주년 맞은 이마트, 겨울 딸기 70t 할인 판매   \n"
     ]
    },
    {
     "ename": "AttributeError",
     "evalue": "ResultSet object has no attribute 'get_text'. You're probably treating a list of elements like a single element. Did you call find_all() when you meant to call find()?",
     "output_type": "error",
     "traceback": [
      "\u001b[1;31m---------------------------------------------------------------------------\u001b[0m",
      "\u001b[1;31mAttributeError\u001b[0m                            Traceback (most recent call last)",
      "\u001b[1;32mC:\\Users\\ADMINI~1\\AppData\\Local\\Temp/ipykernel_12280/1253598383.py\u001b[0m in \u001b[0;36m<module>\u001b[1;34m\u001b[0m\n\u001b[0;32m     50\u001b[0m \u001b[1;31m# list 형태로 저장된다\u001b[0m\u001b[1;33m\u001b[0m\u001b[1;33m\u001b[0m\u001b[1;33m\u001b[0m\u001b[0m\n\u001b[0;32m     51\u001b[0m \u001b[1;33m\u001b[0m\u001b[0m\n\u001b[1;32m---> 52\u001b[1;33m \u001b[0mprint\u001b[0m\u001b[1;33m(\u001b[0m\u001b[0mli_list\u001b[0m\u001b[1;33m.\u001b[0m\u001b[0mget_text\u001b[0m\u001b[1;33m(\u001b[0m\u001b[1;33m)\u001b[0m\u001b[1;33m)\u001b[0m\u001b[1;33m\u001b[0m\u001b[1;33m\u001b[0m\u001b[0m\n\u001b[0m\u001b[0;32m     53\u001b[0m \u001b[1;33m\u001b[0m\u001b[0m\n\u001b[0;32m     54\u001b[0m \u001b[0mindex\u001b[0m \u001b[1;33m=\u001b[0m \u001b[1;33m[\u001b[0m\u001b[1;33m]\u001b[0m\u001b[1;33m\u001b[0m\u001b[1;33m\u001b[0m\u001b[0m\n",
      "\u001b[1;32mc:\\program files\\python38\\lib\\site-packages\\bs4\\element.py\u001b[0m in \u001b[0;36m__getattr__\u001b[1;34m(self, key)\u001b[0m\n\u001b[0;32m   2251\u001b[0m     \u001b[1;32mdef\u001b[0m \u001b[0m__getattr__\u001b[0m\u001b[1;33m(\u001b[0m\u001b[0mself\u001b[0m\u001b[1;33m,\u001b[0m \u001b[0mkey\u001b[0m\u001b[1;33m)\u001b[0m\u001b[1;33m:\u001b[0m\u001b[1;33m\u001b[0m\u001b[1;33m\u001b[0m\u001b[0m\n\u001b[0;32m   2252\u001b[0m         \u001b[1;34m\"\"\"Raise a helpful exception to explain a common code fix.\"\"\"\u001b[0m\u001b[1;33m\u001b[0m\u001b[1;33m\u001b[0m\u001b[0m\n\u001b[1;32m-> 2253\u001b[1;33m         raise AttributeError(\n\u001b[0m\u001b[0;32m   2254\u001b[0m             \u001b[1;34m\"ResultSet object has no attribute '%s'. You're probably treating a list of elements like a single element. Did you call find_all() when you meant to call find()?\"\u001b[0m \u001b[1;33m%\u001b[0m \u001b[0mkey\u001b[0m\u001b[1;33m\u001b[0m\u001b[1;33m\u001b[0m\u001b[0m\n\u001b[0;32m   2255\u001b[0m         )\n",
      "\u001b[1;31mAttributeError\u001b[0m: ResultSet object has no attribute 'get_text'. You're probably treating a list of elements like a single element. Did you call find_all() when you meant to call find()?"
     ]
    }
   ],
   "source": [
    "from selenium import webdriver\n",
    "from bs4 import BeautifulSoup\n",
    "import numpy as np\n",
    "import pandas as pd\n",
    "import time\n",
    "import sys\n",
    "\n",
    "\n",
    "keyword = input(\"검색어를 입력하세요\")\n",
    "cnt = int(input('크롤링할 건수는 몇건입니까 ?'))\n",
    "\n",
    "ccnt = np.ceil(cnt/10)\n",
    "#query\n",
    "# http//www.riss.r/index.do\n",
    "#웹 브라우저한테 시킬 모든일은 driver를 통해서 시킨다\n",
    "\n",
    "chrome_path = 'C:\\\\crawling\\\\chromedriver_win32\\\\chromedriver.exe'\n",
    "driver = webdriver.Chrome(chrome_path)\n",
    "\n",
    "url = 'http://naver.com'\n",
    "driver.get(url)\n",
    "time.sleep(3.5)\n",
    "\n",
    "search = driver.find_element_by_id(\"query\")\n",
    "\n",
    "search.click()\n",
    "search.send_keys(keyword)\n",
    "search.send_keys(\"\\n\")\n",
    "\n",
    "ccm = driver.find_element_by_xpath('//*[@id=\"lnb\"]/div[1]/div/ul/li[9]/a')\n",
    "                                   \n",
    "ccm.click()\n",
    "\n",
    "time.sleep(1)\n",
    "\n",
    "full_html = driver.page_source\n",
    "\n",
    "soup = BeautifulSoup(full_html, 'html.parser') #위의 전체 HTML 코드를 가지고 온다\n",
    "\n",
    "soup\n",
    "\n",
    "content_list = soup.find('ul','list_news')\n",
    "print(content_list.get_text())\n",
    "\n",
    "#list 선언\n",
    "\n",
    "li_list = content_list.find_all('li')\n",
    "\n",
    "# find_all 로 태그값들을 가져오게 되면:\n",
    "# list 형태로 저장된다\n",
    "\n",
    "index = []\n",
    "title_list = []\n",
    "contents_list = []\n",
    "date_list  = []\n",
    "press_list = []\n",
    "no = 1\n",
    "\n",
    "for i in li_list:\n",
    "    try : \n",
    "        title = i.find('a', 'news_tit').get_text().strip()\n",
    "    \n",
    "    except:\n",
    "        continue\n",
    "    else:\n",
    "        # 각 변수명으로 추출\n",
    "        contents = i.find('a', 'api_txt_lines dsc_txt_wrap').get_text().strip()\n",
    "        date = i.find('span', 'info').get_text().strip()\n",
    "        press = i.find('a', class_=\"info press\").get_text().strip()\n",
    "        \n",
    "        # 원하는 모양으로 출력\n",
    "        print('1. 제목: ', title)\n",
    "        print('2. 내용: ', contents)\n",
    "        print('3. 시간: ', date)\n",
    "        print('4. 언론사: ', press)\n",
    "        \n",
    "        # 리스트에 저장\n",
    "        title_list.append(title)\n",
    "        contents_list.append(contents)\n",
    "        date_list.append(date)\n",
    "        press_list.append(press)\n",
    "\n",
    "    print(\"\\n\")\n",
    "    print(\"=\"*100)\n",
    "    \n",
    " \n",
    "    \n",
    "    for i in range(1,int(ccnt+1)):\n",
    "        driver.find_element_by_link_text(str(i)).click()\n",
    "        time.sleep(1)\n",
    "    \n",
    "    "
   ]
  },
  {
   "cell_type": "code",
   "execution_count": null,
   "id": "04585258",
   "metadata": {},
   "outputs": [],
   "source": [
    "\n",
    "\n",
    "li_list = content_list.find_all('li')  #find_all로 태그값들을 가져오게 되면 리스트 형태로 저장된다.\n",
    "li_newscompany = content_list.find('a','info press')\n",
    "li_hour = content_list.find_all('span')\n",
    "li_name = content_list.find_all('a','news_tit')\n",
    "li_essay = content_list.find_all('a','api_txt_lines dsc_txt_wrap')\n"
   ]
  }
 ],
 "metadata": {
  "kernelspec": {
   "display_name": "Python 3 (ipykernel)",
   "language": "python",
   "name": "python3"
  },
  "language_info": {
   "codemirror_mode": {
    "name": "ipython",
    "version": 3
   },
   "file_extension": ".py",
   "mimetype": "text/x-python",
   "name": "python",
   "nbconvert_exporter": "python",
   "pygments_lexer": "ipython3",
   "version": "3.8.3"
  }
 },
 "nbformat": 4,
 "nbformat_minor": 5
}
