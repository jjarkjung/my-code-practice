{
 "cells": [
  {
   "cell_type": "code",
   "execution_count": 3,
   "id": "cbbd9d41",
   "metadata": {},
   "outputs": [],
   "source": [
    "import selenium\n",
    "import sys\n",
    "import time\n",
    "import bs4"
   ]
  },
  {
   "cell_type": "code",
   "execution_count": null,
   "id": "f7ec993c",
   "metadata": {},
   "outputs": [],
   "source": []
  },
  {
   "cell_type": "code",
   "execution_count": 33,
   "id": "d34c9c1e",
   "metadata": {},
   "outputs": [
    {
     "name": "stdout",
     "output_type": "stream",
     "text": [
      "검색어를 입력하세요겨울\n"
     ]
    },
    {
     "name": "stderr",
     "output_type": "stream",
     "text": [
      "C:\\Users\\ADMINI~1\\AppData\\Local\\Temp/ipykernel_6152/1325006011.py:10: DeprecationWarning: executable_path has been deprecated, please pass in a Service object\n",
      "  driver = webdriver.Chrome(chrome_path)\n",
      "C:\\Users\\ADMINI~1\\AppData\\Local\\Temp/ipykernel_6152/1325006011.py:18: DeprecationWarning: find_element_by_* commands are deprecated. Please use find_element() instead\n",
      "  search = driver.find_element_by_id(\"query\")\n",
      "C:\\Users\\ADMINI~1\\AppData\\Local\\Temp/ipykernel_6152/1325006011.py:24: DeprecationWarning: find_element_by_* commands are deprecated. Please use find_element() instead\n",
      "  ccm = driver.find_element_by_xpath('//*[@id=\"lnb\"]/div[1]/div/ul/li[9]/a')\n",
      "C:\\Users\\ADMINI~1\\AppData\\Local\\Temp/ipykernel_6152/1325006011.py:28: DeprecationWarning: find_element_by_* commands are deprecated. Please use find_element() instead\n",
      "  driver.find_element_by_css_selector('#main_pack > div.api_sc_page_wrap > div > div > a:nth-child(i)').click()\n"
     ]
    },
    {
     "ename": "InvalidSelectorException",
     "evalue": "Message: invalid selector: An invalid or illegal selector was specified\n  (Session info: chrome=96.0.4664.45)\nStacktrace:\nBacktrace:\n\tOrdinal0 [0x010F0C43+2493507]\n\tOrdinal0 [0x0108A4B1+2073777]\n\tOrdinal0 [0x00F92608+1058312]\n\tOrdinal0 [0x00F94D34+1068340]\n\tOrdinal0 [0x00F94BFE+1068030]\n\tOrdinal0 [0x00F94E60+1068640]\n\tOrdinal0 [0x00FBC7E8+1230824]\n\tOrdinal0 [0x00FE6C62+1404002]\n\tOrdinal0 [0x00FD597A+1333626]\n\tOrdinal0 [0x00FE5038+1396792]\n\tOrdinal0 [0x00FD580B+1333259]\n\tOrdinal0 [0x00FB2314+1188628]\n\tOrdinal0 [0x00FB316F+1192303]\n\tGetHandleVerifier [0x01277BF6+1548950]\n\tGetHandleVerifier [0x0132461C+2256060]\n\tGetHandleVerifier [0x0117C13B+518107]\n\tGetHandleVerifier [0x0117B1E0+514176]\n\tOrdinal0 [0x0108F53D+2094397]\n\tOrdinal0 [0x01093418+2110488]\n\tOrdinal0 [0x01093552+2110802]\n\tOrdinal0 [0x0109CE81+2150017]\n\tBaseThreadInitThunk [0x7672FA29+25]\n\tRtlGetAppContainerNamedObjectPath [0x77CB7A9E+286]\n\tRtlGetAppContainerNamedObjectPath [0x77CB7A6E+238]\n",
     "output_type": "error",
     "traceback": [
      "\u001b[1;31m---------------------------------------------------------------------------\u001b[0m",
      "\u001b[1;31mInvalidSelectorException\u001b[0m                  Traceback (most recent call last)",
      "\u001b[1;32mC:\\Users\\ADMINI~1\\AppData\\Local\\Temp/ipykernel_6152/1325006011.py\u001b[0m in \u001b[0;36m<module>\u001b[1;34m\u001b[0m\n\u001b[0;32m     26\u001b[0m \u001b[0mccm\u001b[0m\u001b[1;33m.\u001b[0m\u001b[0mclick\u001b[0m\u001b[1;33m(\u001b[0m\u001b[1;33m)\u001b[0m\u001b[1;33m\u001b[0m\u001b[1;33m\u001b[0m\u001b[0m\n\u001b[0;32m     27\u001b[0m \u001b[1;32mfor\u001b[0m \u001b[0mi\u001b[0m \u001b[1;32min\u001b[0m \u001b[0mrange\u001b[0m\u001b[1;33m(\u001b[0m\u001b[1;36m1\u001b[0m\u001b[1;33m,\u001b[0m\u001b[1;36m5\u001b[0m\u001b[1;33m)\u001b[0m\u001b[1;33m:\u001b[0m\u001b[1;33m\u001b[0m\u001b[1;33m\u001b[0m\u001b[0m\n\u001b[1;32m---> 28\u001b[1;33m     \u001b[0mdriver\u001b[0m\u001b[1;33m.\u001b[0m\u001b[0mfind_element_by_css_selector\u001b[0m\u001b[1;33m(\u001b[0m\u001b[1;34m'#main_pack > div.api_sc_page_wrap > div > div > a:nth-child(i)'\u001b[0m\u001b[1;33m)\u001b[0m\u001b[1;33m.\u001b[0m\u001b[0mclick\u001b[0m\u001b[1;33m(\u001b[0m\u001b[1;33m)\u001b[0m\u001b[1;33m\u001b[0m\u001b[1;33m\u001b[0m\u001b[0m\n\u001b[0m\u001b[0;32m     29\u001b[0m \u001b[1;33m\u001b[0m\u001b[0m\n\u001b[0;32m     30\u001b[0m \u001b[1;32mfor\u001b[0m \u001b[0mi\u001b[0m \u001b[1;32min\u001b[0m \u001b[0mrange\u001b[0m \u001b[1;33m(\u001b[0m\u001b[1;36m0\u001b[0m\u001b[1;33m,\u001b[0m\u001b[1;36m5\u001b[0m\u001b[1;33m)\u001b[0m\u001b[1;33m:\u001b[0m\u001b[1;33m\u001b[0m\u001b[1;33m\u001b[0m\u001b[0m\n",
      "\u001b[1;32mc:\\program files\\python38\\lib\\site-packages\\selenium\\webdriver\\remote\\webdriver.py\u001b[0m in \u001b[0;36mfind_element_by_css_selector\u001b[1;34m(self, css_selector)\u001b[0m\n\u001b[0;32m    800\u001b[0m             \u001b[0mstacklevel\u001b[0m\u001b[1;33m=\u001b[0m\u001b[1;36m2\u001b[0m\u001b[1;33m,\u001b[0m\u001b[1;33m\u001b[0m\u001b[1;33m\u001b[0m\u001b[0m\n\u001b[0;32m    801\u001b[0m         )\n\u001b[1;32m--> 802\u001b[1;33m         \u001b[1;32mreturn\u001b[0m \u001b[0mself\u001b[0m\u001b[1;33m.\u001b[0m\u001b[0mfind_element\u001b[0m\u001b[1;33m(\u001b[0m\u001b[0mby\u001b[0m\u001b[1;33m=\u001b[0m\u001b[0mBy\u001b[0m\u001b[1;33m.\u001b[0m\u001b[0mCSS_SELECTOR\u001b[0m\u001b[1;33m,\u001b[0m \u001b[0mvalue\u001b[0m\u001b[1;33m=\u001b[0m\u001b[0mcss_selector\u001b[0m\u001b[1;33m)\u001b[0m\u001b[1;33m\u001b[0m\u001b[1;33m\u001b[0m\u001b[0m\n\u001b[0m\u001b[0;32m    803\u001b[0m \u001b[1;33m\u001b[0m\u001b[0m\n\u001b[0;32m    804\u001b[0m     \u001b[1;32mdef\u001b[0m \u001b[0mfind_elements_by_css_selector\u001b[0m\u001b[1;33m(\u001b[0m\u001b[0mself\u001b[0m\u001b[1;33m,\u001b[0m \u001b[0mcss_selector\u001b[0m\u001b[1;33m)\u001b[0m \u001b[1;33m->\u001b[0m \u001b[0mWebElement\u001b[0m\u001b[1;33m:\u001b[0m\u001b[1;33m\u001b[0m\u001b[1;33m\u001b[0m\u001b[0m\n",
      "\u001b[1;32mc:\\program files\\python38\\lib\\site-packages\\selenium\\webdriver\\remote\\webdriver.py\u001b[0m in \u001b[0;36mfind_element\u001b[1;34m(self, by, value)\u001b[0m\n\u001b[0;32m   1236\u001b[0m             \u001b[0mvalue\u001b[0m \u001b[1;33m=\u001b[0m \u001b[1;34m'[name=\"%s\"]'\u001b[0m \u001b[1;33m%\u001b[0m \u001b[0mvalue\u001b[0m\u001b[1;33m\u001b[0m\u001b[1;33m\u001b[0m\u001b[0m\n\u001b[0;32m   1237\u001b[0m \u001b[1;33m\u001b[0m\u001b[0m\n\u001b[1;32m-> 1238\u001b[1;33m         return self.execute(Command.FIND_ELEMENT, {\n\u001b[0m\u001b[0;32m   1239\u001b[0m             \u001b[1;34m'using'\u001b[0m\u001b[1;33m:\u001b[0m \u001b[0mby\u001b[0m\u001b[1;33m,\u001b[0m\u001b[1;33m\u001b[0m\u001b[1;33m\u001b[0m\u001b[0m\n\u001b[0;32m   1240\u001b[0m             'value': value})['value']\n",
      "\u001b[1;32mc:\\program files\\python38\\lib\\site-packages\\selenium\\webdriver\\remote\\webdriver.py\u001b[0m in \u001b[0;36mexecute\u001b[1;34m(self, driver_command, params)\u001b[0m\n\u001b[0;32m    416\u001b[0m         \u001b[0mresponse\u001b[0m \u001b[1;33m=\u001b[0m \u001b[0mself\u001b[0m\u001b[1;33m.\u001b[0m\u001b[0mcommand_executor\u001b[0m\u001b[1;33m.\u001b[0m\u001b[0mexecute\u001b[0m\u001b[1;33m(\u001b[0m\u001b[0mdriver_command\u001b[0m\u001b[1;33m,\u001b[0m \u001b[0mparams\u001b[0m\u001b[1;33m)\u001b[0m\u001b[1;33m\u001b[0m\u001b[1;33m\u001b[0m\u001b[0m\n\u001b[0;32m    417\u001b[0m         \u001b[1;32mif\u001b[0m \u001b[0mresponse\u001b[0m\u001b[1;33m:\u001b[0m\u001b[1;33m\u001b[0m\u001b[1;33m\u001b[0m\u001b[0m\n\u001b[1;32m--> 418\u001b[1;33m             \u001b[0mself\u001b[0m\u001b[1;33m.\u001b[0m\u001b[0merror_handler\u001b[0m\u001b[1;33m.\u001b[0m\u001b[0mcheck_response\u001b[0m\u001b[1;33m(\u001b[0m\u001b[0mresponse\u001b[0m\u001b[1;33m)\u001b[0m\u001b[1;33m\u001b[0m\u001b[1;33m\u001b[0m\u001b[0m\n\u001b[0m\u001b[0;32m    419\u001b[0m             response['value'] = self._unwrap_value(\n\u001b[0;32m    420\u001b[0m                 response.get('value', None))\n",
      "\u001b[1;32mc:\\program files\\python38\\lib\\site-packages\\selenium\\webdriver\\remote\\errorhandler.py\u001b[0m in \u001b[0;36mcheck_response\u001b[1;34m(self, response)\u001b[0m\n\u001b[0;32m    241\u001b[0m                 \u001b[0malert_text\u001b[0m \u001b[1;33m=\u001b[0m \u001b[0mvalue\u001b[0m\u001b[1;33m[\u001b[0m\u001b[1;34m'alert'\u001b[0m\u001b[1;33m]\u001b[0m\u001b[1;33m.\u001b[0m\u001b[0mget\u001b[0m\u001b[1;33m(\u001b[0m\u001b[1;34m'text'\u001b[0m\u001b[1;33m)\u001b[0m\u001b[1;33m\u001b[0m\u001b[1;33m\u001b[0m\u001b[0m\n\u001b[0;32m    242\u001b[0m             \u001b[1;32mraise\u001b[0m \u001b[0mexception_class\u001b[0m\u001b[1;33m(\u001b[0m\u001b[0mmessage\u001b[0m\u001b[1;33m,\u001b[0m \u001b[0mscreen\u001b[0m\u001b[1;33m,\u001b[0m \u001b[0mstacktrace\u001b[0m\u001b[1;33m,\u001b[0m \u001b[0malert_text\u001b[0m\u001b[1;33m)\u001b[0m  \u001b[1;31m# type: ignore[call-arg]  # mypy is not smart enough here\u001b[0m\u001b[1;33m\u001b[0m\u001b[1;33m\u001b[0m\u001b[0m\n\u001b[1;32m--> 243\u001b[1;33m         \u001b[1;32mraise\u001b[0m \u001b[0mexception_class\u001b[0m\u001b[1;33m(\u001b[0m\u001b[0mmessage\u001b[0m\u001b[1;33m,\u001b[0m \u001b[0mscreen\u001b[0m\u001b[1;33m,\u001b[0m \u001b[0mstacktrace\u001b[0m\u001b[1;33m)\u001b[0m\u001b[1;33m\u001b[0m\u001b[1;33m\u001b[0m\u001b[0m\n\u001b[0m\u001b[0;32m    244\u001b[0m \u001b[1;33m\u001b[0m\u001b[0m\n\u001b[0;32m    245\u001b[0m     \u001b[1;32mdef\u001b[0m \u001b[0m_value_or_default\u001b[0m\u001b[1;33m(\u001b[0m\u001b[0mself\u001b[0m\u001b[1;33m,\u001b[0m \u001b[0mobj\u001b[0m\u001b[1;33m:\u001b[0m \u001b[0mMapping\u001b[0m\u001b[1;33m[\u001b[0m\u001b[0m_KT\u001b[0m\u001b[1;33m,\u001b[0m \u001b[0m_VT\u001b[0m\u001b[1;33m]\u001b[0m\u001b[1;33m,\u001b[0m \u001b[0mkey\u001b[0m\u001b[1;33m:\u001b[0m \u001b[0m_KT\u001b[0m\u001b[1;33m,\u001b[0m \u001b[0mdefault\u001b[0m\u001b[1;33m:\u001b[0m \u001b[0m_VT\u001b[0m\u001b[1;33m)\u001b[0m \u001b[1;33m->\u001b[0m \u001b[0m_VT\u001b[0m\u001b[1;33m:\u001b[0m\u001b[1;33m\u001b[0m\u001b[1;33m\u001b[0m\u001b[0m\n",
      "\u001b[1;31mInvalidSelectorException\u001b[0m: Message: invalid selector: An invalid or illegal selector was specified\n  (Session info: chrome=96.0.4664.45)\nStacktrace:\nBacktrace:\n\tOrdinal0 [0x010F0C43+2493507]\n\tOrdinal0 [0x0108A4B1+2073777]\n\tOrdinal0 [0x00F92608+1058312]\n\tOrdinal0 [0x00F94D34+1068340]\n\tOrdinal0 [0x00F94BFE+1068030]\n\tOrdinal0 [0x00F94E60+1068640]\n\tOrdinal0 [0x00FBC7E8+1230824]\n\tOrdinal0 [0x00FE6C62+1404002]\n\tOrdinal0 [0x00FD597A+1333626]\n\tOrdinal0 [0x00FE5038+1396792]\n\tOrdinal0 [0x00FD580B+1333259]\n\tOrdinal0 [0x00FB2314+1188628]\n\tOrdinal0 [0x00FB316F+1192303]\n\tGetHandleVerifier [0x01277BF6+1548950]\n\tGetHandleVerifier [0x0132461C+2256060]\n\tGetHandleVerifier [0x0117C13B+518107]\n\tGetHandleVerifier [0x0117B1E0+514176]\n\tOrdinal0 [0x0108F53D+2094397]\n\tOrdinal0 [0x01093418+2110488]\n\tOrdinal0 [0x01093552+2110802]\n\tOrdinal0 [0x0109CE81+2150017]\n\tBaseThreadInitThunk [0x7672FA29+25]\n\tRtlGetAppContainerNamedObjectPath [0x77CB7A9E+286]\n\tRtlGetAppContainerNamedObjectPath [0x77CB7A6E+238]\n"
     ]
    }
   ],
   "source": [
    "from selenium import webdriver\n",
    "from bs4 import BeautifulSoup\n",
    "keyword = input(\"검색어를 입력하세요\")\n",
    "#query\n",
    "\n",
    "# http//www.riss.r/index.do\n",
    "#웹 브라우저한테 시킬 모든일은 driver를 통해서 시킨다\n",
    "\n",
    "chrome_path = 'C:\\\\crawling\\\\chromedriver_win32\\\\chromedriver.exe'\n",
    "driver = webdriver.Chrome(chrome_path)\n",
    "\n",
    "url = 'http://naver.com'\n",
    "driver.get(url)\n",
    "\n",
    "import time\n",
    "time.sleep(3.5)\n",
    "\n",
    "search = driver.find_element_by_id(\"query\")\n",
    "\n",
    "search.click()\n",
    "search.send_keys(keyword)\n",
    "search.send_keys(\"\\n\")\n",
    "\n",
    "ccm = driver.find_element_by_xpath('//*[@id=\"lnb\"]/div[1]/div/ul/li[9]/a')\n",
    "                                   \n",
    "ccm.click()\n",
    "for i in range(1,5):\n",
    "    driver.find_element_by_css_selector('#main_pack > div.api_sc_page_wrap > div > div > a:nth-child(i)').click()\n",
    "\n",
    "for i in range (0,5):\n",
    "    driver.find_element_by_css_selector('#main_pack > div.api_sc_page_wrap > div > div > a:nth-child(6)').click()\n",
    "    \n",
    "    "
   ]
  },
  {
   "cell_type": "code",
   "execution_count": 35,
   "id": "39b3ffcf",
   "metadata": {},
   "outputs": [
    {
     "name": "stderr",
     "output_type": "stream",
     "text": [
      "C:\\Users\\ADMINI~1\\AppData\\Local\\Temp/ipykernel_6152/717676262.py:1: DeprecationWarning: find_element_by_* commands are deprecated. Please use find_element() instead\n",
      "  driver.find_element_by_css_selector('#main_pack > div.api_sc_page_wrap > div > div > a:nth-child(6)').click()\n",
      "C:\\Users\\ADMINI~1\\AppData\\Local\\Temp/ipykernel_6152/717676262.py:2: DeprecationWarning: find_element_by_* commands are deprecated. Please use find_element() instead\n",
      "  driver.find_element_by_css_selector('#main_pack > div.api_sc_page_wrap > div > div > a:nth-child(6)').click()\n",
      "C:\\Users\\ADMINI~1\\AppData\\Local\\Temp/ipykernel_6152/717676262.py:3: DeprecationWarning: find_element_by_* commands are deprecated. Please use find_element() instead\n",
      "  driver.find_element_by_css_selector('#main_pack > div.api_sc_page_wrap > div > div > a:nth-child(6)').click()\n",
      "C:\\Users\\ADMINI~1\\AppData\\Local\\Temp/ipykernel_6152/717676262.py:4: DeprecationWarning: find_element_by_* commands are deprecated. Please use find_element() instead\n",
      "  driver.find_element_by_css_selector('#main_pack > div.api_sc_page_wrap > div > div > a:nth-child(6)').click()\n",
      "C:\\Users\\ADMINI~1\\AppData\\Local\\Temp/ipykernel_6152/717676262.py:5: DeprecationWarning: find_element_by_* commands are deprecated. Please use find_element() instead\n",
      "  driver.find_element_by_css_selector('#main_pack > div.api_sc_page_wrap > div > div > a:nth-child(2)').click()\n",
      "C:\\Users\\ADMINI~1\\AppData\\Local\\Temp/ipykernel_6152/717676262.py:6: DeprecationWarning: find_element_by_* commands are deprecated. Please use find_element() instead\n",
      "  driver.find_element_by_css_selector('#main_pack > div.api_sc_page_wrap > div > div > a:nth-child(3)').click()\n",
      "C:\\Users\\ADMINI~1\\AppData\\Local\\Temp/ipykernel_6152/717676262.py:7: DeprecationWarning: find_element_by_* commands are deprecated. Please use find_element() instead\n",
      "  driver.find_element_by_css_selector('#main_pack > div.api_sc_page_wrap > div > div > a:nth-child(4)').click()\n",
      "C:\\Users\\ADMINI~1\\AppData\\Local\\Temp/ipykernel_6152/717676262.py:8: DeprecationWarning: find_element_by_* commands are deprecated. Please use find_element() instead\n",
      "  driver.find_element_by_css_selector('#main_pack > div.api_sc_page_wrap > div > div > a:nth-child(5)').click()\n",
      "C:\\Users\\ADMINI~1\\AppData\\Local\\Temp/ipykernel_6152/717676262.py:12: DeprecationWarning: find_element_by_* commands are deprecated. Please use find_element() instead\n",
      "  driver.find_element_by_css_selector('#main_pack > div.api_sc_page_wrap > div > div > a:nth-child(6)').click()\n"
     ]
    }
   ],
   "source": [
    "driver.find_element_by_css_selector('#main_pack > div.api_sc_page_wrap > div > div > a:nth-child(6)').click()\n",
    "driver.find_element_by_css_selector('#main_pack > div.api_sc_page_wrap > div > div > a:nth-child(6)').click()\n",
    "driver.find_element_by_css_selector('#main_pack > div.api_sc_page_wrap > div > div > a:nth-child(6)').click()\n",
    "driver.find_element_by_css_selector('#main_pack > div.api_sc_page_wrap > div > div > a:nth-child(6)').click()\n",
    "driver.find_element_by_css_selector('#main_pack > div.api_sc_page_wrap > div > div > a:nth-child(2)').click()\n",
    "driver.find_element_by_css_selector('#main_pack > div.api_sc_page_wrap > div > div > a:nth-child(3)').click()\n",
    "driver.find_element_by_css_selector('#main_pack > div.api_sc_page_wrap > div > div > a:nth-child(4)').click()\n",
    "driver.find_element_by_css_selector('#main_pack > div.api_sc_page_wrap > div > div > a:nth-child(5)').click()\n",
    "\n",
    "\n",
    "for i in range(0,10):\n",
    "    driver.find_element_by_css_selector('#main_pack > div.api_sc_page_wrap > div > div > a:nth-child(6)').click()\n",
    "    \n",
    "    "
   ]
  },
  {
   "cell_type": "code",
   "execution_count": 45,
   "id": "b37417aa",
   "metadata": {},
   "outputs": [
    {
     "name": "stdout",
     "output_type": "stream",
     "text": [
      "검색어를 입력하세요겨울\n"
     ]
    },
    {
     "name": "stderr",
     "output_type": "stream",
     "text": [
      "C:\\Users\\ADMINI~1\\AppData\\Local\\Temp/ipykernel_6152/2667521949.py:10: DeprecationWarning: executable_path has been deprecated, please pass in a Service object\n",
      "  driver = webdriver.Chrome(chrome_path)\n",
      "C:\\Users\\ADMINI~1\\AppData\\Local\\Temp/ipykernel_6152/2667521949.py:18: DeprecationWarning: find_element_by_* commands are deprecated. Please use find_element() instead\n",
      "  search = driver.find_element_by_id(\"query\")\n",
      "C:\\Users\\ADMINI~1\\AppData\\Local\\Temp/ipykernel_6152/2667521949.py:24: DeprecationWarning: find_element_by_* commands are deprecated. Please use find_element() instead\n",
      "  ccm = driver.find_element_by_xpath('//*[@id=\"lnb\"]/div[1]/div/ul/li[9]/a')\n",
      "C:\\Users\\ADMINI~1\\AppData\\Local\\Temp/ipykernel_6152/2667521949.py:29: DeprecationWarning: find_element_by_* commands are deprecated. Please use find_element() instead\n",
      "  driver.find_element_by_link_text(str(i)).click()\n"
     ]
    }
   ],
   "source": [
    "from selenium import webdriver\n",
    "from bs4 import BeautifulSoup\n",
    "keyword = input(\"검색어를 입력하세요\")\n",
    "#query\n",
    "\n",
    "# http//www.riss.r/index.do\n",
    "#웹 브라우저한테 시킬 모든일은 driver를 통해서 시킨다\n",
    "\n",
    "chrome_path = 'C:\\\\crawling\\\\chromedriver_win32\\\\chromedriver.exe'\n",
    "driver = webdriver.Chrome(chrome_path)\n",
    "\n",
    "url = 'http://naver.com'\n",
    "driver.get(url)\n",
    "\n",
    "import time\n",
    "time.sleep(3.5)\n",
    "\n",
    "search = driver.find_element_by_id(\"query\")\n",
    "\n",
    "search.click()\n",
    "search.send_keys(keyword)\n",
    "search.send_keys(\"\\n\")\n",
    "\n",
    "ccm = driver.find_element_by_xpath('//*[@id=\"lnb\"]/div[1]/div/ul/li[9]/a')\n",
    "                                   \n",
    "ccm.click()\n",
    "\n",
    "for i in range(1,11):\n",
    "    driver.find_element_by_link_text(str(i)).click()\n",
    "    time.sleep(1)\n",
    "\n",
    "    "
   ]
  },
  {
   "cell_type": "code",
   "execution_count": null,
   "id": "7e7c078a",
   "metadata": {},
   "outputs": [],
   "source": []
  }
 ],
 "metadata": {
  "kernelspec": {
   "display_name": "Python 3 (ipykernel)",
   "language": "python",
   "name": "python3"
  },
  "language_info": {
   "codemirror_mode": {
    "name": "ipython",
    "version": 3
   },
   "file_extension": ".py",
   "mimetype": "text/x-python",
   "name": "python",
   "nbconvert_exporter": "python",
   "pygments_lexer": "ipython3",
   "version": "3.8.3"
  }
 },
 "nbformat": 4,
 "nbformat_minor": 5
}
