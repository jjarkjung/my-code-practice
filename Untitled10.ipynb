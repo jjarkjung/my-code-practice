{
 "cells": [
  {
   "cell_type": "code",
   "execution_count": 6,
   "id": "52bb7f44",
   "metadata": {},
   "outputs": [
    {
     "name": "stderr",
     "output_type": "stream",
     "text": [
      "C:\\Users\\ADMINI~1\\AppData\\Local\\Temp/ipykernel_8544/3068096804.py:10: DeprecationWarning: executable_path has been deprecated, please pass in a Service object\n",
      "  driver = webdriver.Chrome(chrome_path)\n",
      "C:\\Users\\ADMINI~1\\AppData\\Local\\Temp/ipykernel_8544/3068096804.py:18: DeprecationWarning: find_element_by_* commands are deprecated. Please use find_element() instead\n",
      "  search = driver.find_element_by_xpath(\"\"\"//*[@id=\"NM_FAVORITE\"]/div[1]/a\"\"\")\n",
      "C:\\Users\\ADMINI~1\\AppData\\Local\\Temp/ipykernel_8544/3068096804.py:20: DeprecationWarning: find_element_by_* commands are deprecated. Please use find_element() instead\n",
      "  cc = driver.find_element_by_name(\"movie\")\n"
     ]
    },
    {
     "name": "stdout",
     "output_type": "stream",
     "text": [
      "검색어를 입력하세요크루엘라\n"
     ]
    },
    {
     "name": "stderr",
     "output_type": "stream",
     "text": [
      "C:\\Users\\ADMINI~1\\AppData\\Local\\Temp/ipykernel_8544/3068096804.py:24: DeprecationWarning: find_element_by_* commands are deprecated. Please use find_element() instead\n",
      "  ss = driver.find_element_by_id(\"ipt_tx_srch\")\n",
      "C:\\Users\\ADMINI~1\\AppData\\Local\\Temp/ipykernel_8544/3068096804.py:32: DeprecationWarning: find_element_by_* commands are deprecated. Please use find_element() instead\n",
      "  ee = driver.find_element_by_xpath(\"\"\"//*[@id=\"old_content\"]/ul[2]/li/dl/dt/a\"\"\")\n"
     ]
    }
   ],
   "source": [
    "from selenium import webdriver\n",
    "from bs4 import BeautifulSoup\n",
    "import time\n",
    "#query\n",
    "\n",
    "# http//www.riss.r/index.do\n",
    "#웹 브라우저한테 시킬 모든일은 driver를 통해서 시킨다\n",
    "\n",
    "chrome_path = 'C:\\\\crawling\\\\chromedriver_win32\\\\chromedriver.exe'\n",
    "driver = webdriver.Chrome(chrome_path)\n",
    "\n",
    "url = 'http://naver.com'\n",
    "driver.get(url)\n",
    "\n",
    "\n",
    "time.sleep(3.5)\n",
    "\n",
    "search = driver.find_element_by_xpath(\"\"\"//*[@id=\"NM_FAVORITE\"]/div[1]/a\"\"\")\n",
    "search.click()\n",
    "cc = driver.find_element_by_name(\"movie\")\n",
    "cc.click()\n",
    "\n",
    "keyword = input(\"검색어를 입력하세요\")\n",
    "ss = driver.find_element_by_id(\"ipt_tx_srch\")\n",
    "ss.click()\n",
    "ss.send_keys(keyword)\n",
    "ss.send_keys(\"\\n\")\n",
    "\n",
    "\n",
    "time.sleep(3)\n",
    "\n",
    "ee = driver.find_element_by_xpath(\"\"\"//*[@id=\"old_content\"]/ul[2]/li/dl/dt/a\"\"\")\n",
    "ee.click()"
   ]
  },
  {
   "cell_type": "markdown",
   "id": "6a404557",
   "metadata": {},
   "source": [
    "Part1. 네이버 영화 감상평 긁어오는 크롤러 만들기\n",
    "\n",
    "자동으로 입력하는 영화를 검색해서 별점/내용/공감/비공감 긁어오기\n",
    "전체건수 긁어오기\n",
    ".txt/ .csv 형식으로 저장할것.\n",
    "\n"
   ]
  },
  {
   "cell_type": "code",
   "execution_count": null,
   "id": "8501bc44",
   "metadata": {},
   "outputs": [],
   "source": [
    "#list 선언\n",
    "def cncn():\n",
    "    index = []\n",
    "    star_score_list = []\n",
    "    story_list = []\n",
    "    sympathy_list  = []\n",
    "    non_sympathy_list = []\n",
    "    no = 0\n",
    "\n",
    "\n",
    "    for i in li_list:\n",
    "        try : \n",
    "            star_score = i.find('a', 'news_tit').get_text().strip()\n",
    "\n",
    "        except:\n",
    "            continue\n",
    "        else:\n",
    "            # 각 변수명으로 추출\n",
    "            story = i.find('a', 'api_txt_lines dsc_txt_wrap').get_text().strip()\n",
    "            sympathy = i.find('span', 'info').get_text().strip()\n",
    "            non_sympathy = i.find('a', class_=\"info press\").get_text().strip()\n",
    "\n",
    "            # 원하는 모양으로 출력\n",
    "            print('1. 별점: ', title)\n",
    "            print('2. 스토리: ', contents)\n",
    "            print('3. 공감: ', date)\n",
    "            print('4. 비공감: ', press)\n",
    "\n",
    "            # 리스트에 저장\n",
    "            star_score_list(star_score)\n",
    "            story_list.append(story)\n",
    "            sympathy_list.append(sympathy)\n",
    "            non_sympathy_list.append(non_sympathy)\n",
    "\n",
    "        print(\"\\n\")\n",
    "        print(\"=\"*100)\n"
   ]
  },
  {
   "cell_type": "code",
   "execution_count": 7,
   "id": "89ee71e9",
   "metadata": {},
   "outputs": [
    {
     "ename": "NameError",
     "evalue": "name 'soup' is not defined",
     "output_type": "error",
     "traceback": [
      "\u001b[1;31m---------------------------------------------------------------------------\u001b[0m",
      "\u001b[1;31mNameError\u001b[0m                                 Traceback (most recent call last)",
      "\u001b[1;32mC:\\Users\\ADMINI~1\\AppData\\Local\\Temp/ipykernel_8544/1891115344.py\u001b[0m in \u001b[0;36m<module>\u001b[1;34m\u001b[0m\n\u001b[1;32m----> 1\u001b[1;33m \u001b[0msoup\u001b[0m\u001b[1;33m\u001b[0m\u001b[1;33m\u001b[0m\u001b[0m\n\u001b[0m\u001b[0;32m      2\u001b[0m \u001b[0mcontent_list\u001b[0m \u001b[1;33m=\u001b[0m \u001b[0msoup\u001b[0m\u001b[1;33m.\u001b[0m\u001b[0mfind\u001b[0m\u001b[1;33m(\u001b[0m\u001b[1;34m'ul'\u001b[0m\u001b[1;33m,\u001b[0m\u001b[1;34m'list_news'\u001b[0m\u001b[1;33m)\u001b[0m\u001b[1;33m\u001b[0m\u001b[1;33m\u001b[0m\u001b[0m\n",
      "\u001b[1;31mNameError\u001b[0m: name 'soup' is not defined"
     ]
    }
   ],
   "source": [
    "\n",
    "soup = BeautifulSoup(full_html, 'html.parser') #위의 전체 HTML 코드를 가지고 온다\n",
    "soup\n",
    "content_list = soup.find('ul','list_news')\n"
   ]
  },
  {
   "cell_type": "code",
   "execution_count": null,
   "id": "efb98d44",
   "metadata": {},
   "outputs": [],
   "source": []
  }
 ],
 "metadata": {
  "kernelspec": {
   "display_name": "Python 3 (ipykernel)",
   "language": "python",
   "name": "python3"
  },
  "language_info": {
   "codemirror_mode": {
    "name": "ipython",
    "version": 3
   },
   "file_extension": ".py",
   "mimetype": "text/x-python",
   "name": "python",
   "nbconvert_exporter": "python",
   "pygments_lexer": "ipython3",
   "version": "3.8.5"
  }
 },
 "nbformat": 4,
 "nbformat_minor": 5
}
